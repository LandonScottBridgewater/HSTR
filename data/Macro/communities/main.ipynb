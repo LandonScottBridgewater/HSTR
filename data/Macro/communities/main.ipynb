{
 "cells": [
  {
   "cell_type": "code",
   "execution_count": 3,
   "id": "9ed838ad",
   "metadata": {},
   "outputs": [
    {
     "data": {
      "application/vnd.jupyter.widget-view+json": {
       "model_id": "8c51cc1b477a4e848af8f884d2a0cd1a",
       "version_major": 2,
       "version_minor": 0
      },
      "text/plain": [
       "Map(center=[20, 0], controls=(ZoomControl(options=['position', 'zoom_in_text', 'zoom_in_title', 'zoom_out_text…"
      ]
     },
     "metadata": {},
     "output_type": "display_data"
    }
   ],
   "source": [
    "import leafmap\n",
    "\n",
    "m = leafmap.Map()\n",
    "shape = '/home/amnesia/Documents/Projects/Active/HSTR/data/communities/data/tl_2022_15_place.shp'\n",
    "\n",
    "m.add_shp(shape)\n",
    "\n",
    "m"
   ]
  },
  {
   "cell_type": "code",
   "execution_count": 1,
   "id": "dc96a639",
   "metadata": {},
   "outputs": [
    {
     "ename": "NameError",
     "evalue": "name 'shape' is not defined",
     "output_type": "error",
     "traceback": [
      "\u001b[31m---------------------------------------------------------------------------\u001b[39m",
      "\u001b[31mNameError\u001b[39m                                 Traceback (most recent call last)",
      "\u001b[36mCell\u001b[39m\u001b[36m \u001b[39m\u001b[32mIn[1]\u001b[39m\u001b[32m, line 3\u001b[39m\n\u001b[32m      1\u001b[39m \u001b[38;5;28;01mimport\u001b[39;00m\u001b[38;5;250m \u001b[39m\u001b[34;01mgeopandas\u001b[39;00m\u001b[38;5;250m \u001b[39m\u001b[38;5;28;01mas\u001b[39;00m\u001b[38;5;250m \u001b[39m\u001b[34;01mgpd\u001b[39;00m\n\u001b[32m----> \u001b[39m\u001b[32m3\u001b[39m gdf = gpd.read_file(\u001b[43mshape\u001b[49m)\n\u001b[32m      5\u001b[39m \u001b[38;5;28;01mif\u001b[39;00m gdf.crs.is_geographic:\n\u001b[32m      6\u001b[39m     gdf = gdf.to_crs(epsg=\u001b[32m3857\u001b[39m)\n",
      "\u001b[31mNameError\u001b[39m: name 'shape' is not defined"
     ]
    }
   ],
   "source": [
    "import geopandas as gpd\n",
    "\n",
    "gdf = gpd.read_file(shape)\n",
    "\n",
    "if gdf.crs.is_geographic:\n",
    "    gdf = gdf.to_crs(epsg=3857)\n",
    "\n",
    "\n",
    "gdf['area_sqm'] = gdf.geometry.area\n",
    "\n",
    "total_area_sqm = gdf['area_sqm'].sum()\n",
    "\n",
    "total_area_sqkm = total_area_sqm / 1e6\n",
    "\n",
    "print(f'Total area: {total_area_sqm:.2f} square meters')\n",
    "print(f'Total area: {total_area_sqkm:.2f} square kilometers')\n"
   ]
  }
 ],
 "metadata": {
  "kernelspec": {
   "display_name": "myenv",
   "language": "python",
   "name": "python3"
  },
  "language_info": {
   "codemirror_mode": {
    "name": "ipython",
    "version": 3
   },
   "file_extension": ".py",
   "mimetype": "text/x-python",
   "name": "python",
   "nbconvert_exporter": "python",
   "pygments_lexer": "ipython3",
   "version": "3.13.5"
  }
 },
 "nbformat": 4,
 "nbformat_minor": 5
}
