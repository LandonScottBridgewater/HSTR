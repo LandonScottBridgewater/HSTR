{
 "cells": [
  {
   "cell_type": "code",
   "execution_count": 8,
   "id": "f423aaf1",
   "metadata": {},
   "outputs": [
    {
     "name": "stdout",
     "output_type": "stream",
     "text": [
      "                            OLS Regression Results                            \n",
      "==============================================================================\n",
      "Dep. Variable:                    INT   R-squared:                       0.518\n",
      "Model:                            OLS   Adj. R-squared:                  0.430\n",
      "Method:                 Least Squares   F-statistic:                     5.906\n",
      "Date:                Fri, 15 Aug 2025   Prob (F-statistic):             0.0181\n",
      "Time:                        00:20:08   Log-Likelihood:                -54.842\n",
      "No. Observations:                  14   AIC:                             115.7\n",
      "Df Residuals:                      11   BIC:                             117.6\n",
      "Df Model:                           2                                         \n",
      "Covariance Type:            nonrobust                                         \n",
      "==============================================================================\n",
      "                 coef    std err          t      P>|t|      [0.025      0.975]\n",
      "------------------------------------------------------------------------------\n",
      "const        -17.8300     57.548     -0.310      0.762    -144.493     108.833\n",
      "AAI           13.2182      9.804      1.348      0.205      -8.359      34.796\n",
      "t              4.8261      1.825      2.645      0.023       0.810       8.842\n",
      "==============================================================================\n",
      "Omnibus:                        0.826   Durbin-Watson:                   1.410\n",
      "Prob(Omnibus):                  0.662   Jarque-Bera (JB):                0.570\n",
      "Skew:                          -0.451   Prob(JB):                        0.752\n",
      "Kurtosis:                       2.594   Cond. No.                         143.\n",
      "==============================================================================\n",
      "\n",
      "Notes:\n",
      "[1] Standard Errors assume that the covariance matrix of the errors is correctly specified.\n"
     ]
    }
   ],
   "source": [
    "import json\n",
    "import pandas as pd\n",
    "import statsmodels.api as sm\n",
    "\n",
    "# Define the years of interest\n",
    "years = list(range(2010, 2025))\n",
    "\n",
    "# Load AAI data\n",
    "AAI_Path = \"/home/amnesia/Documents/Projects/Active/HSTR/data/Working Data/usa_consumer/cpi/data.json\"\n",
    "with open(AAI_Path, \"r\") as f:\n",
    "    aai_data = json.load(f)[\"Air Aff. Index\"][\"Index\"]\n",
    "\n",
    "# Load INT data\n",
    "INT_Path = \"/home/amnesia/Documents/Projects/Active/HSTR/data/Working Data/usa_consumer/to_overseas/data.json\"\n",
    "with open(INT_Path, \"r\") as f:\n",
    "    int_data = json.load(f)[\"In Millions\"][\"US-Int\"][\"Total\"][\"Volume\"]\n",
    "\n",
    "# Align data with years\n",
    "AAI = [aai_data[str(year)] for year in years if str(year) in aai_data and str(year) in int_data]\n",
    "INT = [int_data[str(year)] for year in years if str(year) in aai_data and str(year) in int_data]\n",
    "Year = [year for year in years if str(year) in aai_data and str(year) in int_data]\n",
    "\n",
    "# Create DataFrame\n",
    "df = pd.DataFrame({\n",
    "    \"Year\": Year,\n",
    "    \"AAI\": AAI,\n",
    "    \"INT\": INT\n",
    "})\n",
    "\n",
    "# Remove year 2020\n",
    "df = df[df['Year'] != 2020].reset_index(drop=True)\n",
    "\n",
    "# Add time variable t\n",
    "df['t'] = df['Year'] - df['Year'].min()\n",
    "\n",
    "# Prepare regression variables\n",
    "X = df[['AAI', 't']]\n",
    "X = sm.add_constant(X)\n",
    "y = df['INT']\n",
    "\n",
    "# Fit OLS model\n",
    "model = sm.OLS(y, X).fit()\n",
    "\n",
    "# Display summary\n",
    "print(model.summary())\n",
    "\n"
   ]
  }
 ],
 "metadata": {
  "kernelspec": {
   "display_name": "data",
   "language": "python",
   "name": "python3"
  },
  "language_info": {
   "codemirror_mode": {
    "name": "ipython",
    "version": 3
   },
   "file_extension": ".py",
   "mimetype": "text/x-python",
   "name": "python",
   "nbconvert_exporter": "python",
   "pygments_lexer": "ipython3",
   "version": "3.13.5"
  }
 },
 "nbformat": 4,
 "nbformat_minor": 5
}
