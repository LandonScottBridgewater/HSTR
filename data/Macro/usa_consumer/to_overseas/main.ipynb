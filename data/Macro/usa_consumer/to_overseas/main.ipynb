{
 "cells": [
  {
   "cell_type": "code",
   "execution_count": 31,
   "id": "53ed90cf",
   "metadata": {},
   "outputs": [
    {
     "name": "stdout",
     "output_type": "stream",
     "text": [
      "                            OLS Regression Results                            \n",
      "==============================================================================\n",
      "Dep. Variable:                    INT   R-squared:                       0.644\n",
      "Model:                            OLS   Adj. R-squared:                  0.579\n",
      "Method:                 Least Squares   F-statistic:                     9.947\n",
      "Date:                Tue, 12 Aug 2025   Prob (F-statistic):            0.00341\n",
      "Time:                        21:28:03   Log-Likelihood:                -52.720\n",
      "No. Observations:                  14   AIC:                             111.4\n",
      "Df Residuals:                      11   BIC:                             113.4\n",
      "Df Model:                           2                                         \n",
      "Covariance Type:            nonrobust                                         \n",
      "==============================================================================\n",
      "                 coef    std err          t      P>|t|      [0.025      0.975]\n",
      "------------------------------------------------------------------------------\n",
      "const        -53.8876     45.230     -1.191      0.259    -153.437      45.662\n",
      "HI             0.0096      0.004      2.522      0.028       0.001       0.018\n",
      "t             -2.4212      2.131     -1.136      0.280      -7.111       2.268\n",
      "==============================================================================\n",
      "Omnibus:                        2.813   Durbin-Watson:                   0.986\n",
      "Prob(Omnibus):                  0.245   Jarque-Bera (JB):                1.627\n",
      "Skew:                          -0.832   Prob(JB):                        0.443\n",
      "Kurtosis:                       2.861   Cond. No.                     2.23e+05\n",
      "==============================================================================\n",
      "\n",
      "Notes:\n",
      "[1] Standard Errors assume that the covariance matrix of the errors is correctly specified.\n",
      "[2] The condition number is large, 2.23e+05. This might indicate that there are\n",
      "strong multicollinearity or other numerical problems.\n"
     ]
    }
   ],
   "source": [
    "import json\n",
    "import pandas as pd\n",
    "import statsmodels.api as sm\n",
    "\n",
    "data = {\n",
    "    \"Year\": list(range(2010, 2025)),\n",
    "    \"HI\": [],\n",
    "    \"INT\": []\n",
    "}\n",
    "\n",
    "HI_Path = \"/home/amnesia/Documents/Projects/Active/HSTR/data/Working Data/air_traffic/data.json\"\n",
    "\n",
    "with open(HI_Path, \"r\") as f:\n",
    "    data[\"HI\"] = list(json.load(f)[\"In Thousands\"][\"Domestic Overseas\"].values())\n",
    "\n",
    "INT_Path = \"/home/amnesia/Documents/Projects/Active/HSTR/data/Working Data/usa_overseas/data.json\"\n",
    "\n",
    "with open(INT_Path, \"r\") as f:\n",
    "    data[\"INT\"] = list(json.load(f)[\"In Millions\"][\"US-Int\"][\"Total\"][\"Volume\"].values())\n",
    "\n",
    "df = pd.DataFrame(data)\n",
    "\n",
    "df = df[df['Year'] != 2020].reset_index(drop=True)\n",
    "\n",
    "df['t'] = df['Year'] - df['Year'].min()\n",
    "\n",
    "X = df[['HI', 't']]\n",
    "X = sm.add_constant(X)\n",
    "\n",
    "y = df['INT']\n",
    "\n",
    "model = sm.OLS(y, X).fit()\n",
    "\n",
    "print(model.summary())\n"
   ]
  }
 ],
 "metadata": {
  "kernelspec": {
   "display_name": "data",
   "language": "python",
   "name": "python3"
  },
  "language_info": {
   "codemirror_mode": {
    "name": "ipython",
    "version": 3
   },
   "file_extension": ".py",
   "mimetype": "text/x-python",
   "name": "python",
   "nbconvert_exporter": "python",
   "pygments_lexer": "ipython3",
   "version": "3.13.5"
  }
 },
 "nbformat": 4,
 "nbformat_minor": 5
}
