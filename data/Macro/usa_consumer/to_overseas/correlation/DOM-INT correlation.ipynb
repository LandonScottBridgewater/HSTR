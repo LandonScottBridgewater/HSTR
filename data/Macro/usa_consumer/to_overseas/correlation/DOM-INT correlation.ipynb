{
 "cells": [
  {
   "cell_type": "code",
   "execution_count": 1,
   "id": "b00409ee",
   "metadata": {},
   "outputs": [
    {
     "name": "stdout",
     "output_type": "stream",
     "text": [
      "                            OLS Regression Results                            \n",
      "==============================================================================\n",
      "Dep. Variable:               Domestic   R-squared:                       0.933\n",
      "Model:                            OLS   Adj. R-squared:                  0.914\n",
      "Method:                 Least Squares   F-statistic:                     49.09\n",
      "Date:                Sat, 09 Aug 2025   Prob (F-statistic):           7.60e-05\n",
      "Time:                        15:52:51   Log-Likelihood:                -27.184\n",
      "No. Observations:                  10   AIC:                             60.37\n",
      "Df Residuals:                       7   BIC:                             61.28\n",
      "Df Model:                           2                                         \n",
      "Covariance Type:            nonrobust                                         \n",
      "=================================================================================\n",
      "                    coef    std err          t      P>|t|      [0.025      0.975]\n",
      "---------------------------------------------------------------------------------\n",
      "const           -36.5218    265.890     -0.137      0.895    -665.252     592.208\n",
      "International     0.0456      0.136      0.336      0.747      -0.275       0.367\n",
      "t                 2.9302      5.522      0.531      0.612     -10.127      15.987\n",
      "==============================================================================\n",
      "Omnibus:                        0.605   Durbin-Watson:                   0.562\n",
      "Prob(Omnibus):                  0.739   Jarque-Bera (JB):                0.516\n",
      "Skew:                           0.438   Prob(JB):                        0.772\n",
      "Kurtosis:                       2.312   Cond. No.                     4.11e+05\n",
      "==============================================================================\n",
      "\n",
      "Notes:\n",
      "[1] Standard Errors assume that the covariance matrix of the errors is correctly specified.\n",
      "[2] The condition number is large, 4.11e+05. This might indicate that there are\n",
      "strong multicollinearity or other numerical problems.\n"
     ]
    }
   ],
   "source": [
    "import pandas as pd\n",
    "import statsmodels.api as sm\n",
    "\n",
    "# Load your data, example:\n",
    "data = {\n",
    "    'Year': list(range(2010, 2020)),\n",
    "    'Domestic': [60.37,58.7,60.7,61.34,68.12,74.19,80.23,87.55,92.59,99.74],\n",
    "    'International': [1963.7,1997.5,2030.3,2059.6,2131.3,2178.7,2206.6,2240.8,2278,2317],\n",
    "}\n",
    "df = pd.DataFrame(data)\n",
    "\n",
    "# Create the time index\n",
    "df['t'] = df['Year'] - df['Year'].min()\n",
    "\n",
    "# Define independent variables and add a constant term (intercept)\n",
    "X = df[['International', 't']]\n",
    "X = sm.add_constant(X)\n",
    "\n",
    "# Define dependent variable\n",
    "y = df['Domestic']\n",
    "\n",
    "# Fit the regression\n",
    "model = sm.OLS(y, X).fit()\n",
    "\n",
    "print(model.summary())\n"
   ]
  }
 ],
 "metadata": {
  "kernelspec": {
   "display_name": "data",
   "language": "python",
   "name": "python3"
  },
  "language_info": {
   "codemirror_mode": {
    "name": "ipython",
    "version": 3
   },
   "file_extension": ".py",
   "mimetype": "text/x-python",
   "name": "python",
   "nbconvert_exporter": "python",
   "pygments_lexer": "ipython3",
   "version": "3.13.5"
  }
 },
 "nbformat": 4,
 "nbformat_minor": 5
}
